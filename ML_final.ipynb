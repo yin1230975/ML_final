{
 "cells": [
  {
   "cell_type": "code",
   "execution_count": 1,
   "metadata": {},
   "outputs": [],
   "source": [
    "import polars as pl\n",
    "import os\n",
    "import warnings\n",
    "warnings.filterwarnings('ignore')"
   ]
  },
  {
   "cell_type": "code",
   "execution_count": 2,
   "metadata": {},
   "outputs": [],
   "source": [
    "DATA_PATH = \"jane-street-real-time-market-data-forecasting\"\n",
    "data = pl.read_parquet(DATA_PATH + \"/train.parquet\")"
   ]
  },
  {
   "cell_type": "markdown",
   "metadata": {},
   "source": [
    "Train Test Split Method\n",
    "In training data, we preserve symbol_id from 0~30. And the date is from 0 to 1698.\n",
    "In testing data, we use simply the last date 1699 for all symbol_id 0~39."
   ]
  },
  {
   "cell_type": "code",
   "execution_count": 3,
   "metadata": {},
   "outputs": [],
   "source": [
    "train = data.filter((pl.col(\"symbol_id\") < 31) & (pl.col(\"date_id\") < 1698))"
   ]
  },
  {
   "cell_type": "code",
   "execution_count": 4,
   "metadata": {},
   "outputs": [],
   "source": [
    "test = data.filter(pl.col(\"date_id\") == 1698)"
   ]
  },
  {
   "cell_type": "code",
   "execution_count": 5,
   "metadata": {},
   "outputs": [],
   "source": [
    "train = train.drop_nulls() "
   ]
  },
  {
   "cell_type": "code",
   "execution_count": 6,
   "metadata": {},
   "outputs": [],
   "source": [
    "train_grouped = train.partition_by(\"symbol_id\")"
   ]
  },
  {
   "cell_type": "code",
   "execution_count": null,
   "metadata": {},
   "outputs": [],
   "source": [
    "train_grouped[0]"
   ]
  },
  {
   "cell_type": "code",
   "execution_count": null,
   "metadata": {},
   "outputs": [],
   "source": [
    "feature = [col for col in train_pd.columns if col.startswith('feature')]\n",
    "responder = 'responder_6'"
   ]
  },
  {
   "cell_type": "code",
   "execution_count": 9,
   "metadata": {},
   "outputs": [],
   "source": [
    "# Set parameters for LightGBM\n",
    "params = {\n",
    "        'objective': 'regression',\n",
    "        'metric': 'rmse',\n",
    "        'boosting_type': 'gbdt',\n",
    "        'learning_rate': 0.01,  # Lower learning rate\n",
    "        'num_leaves': 31,\n",
    "        'min_data_in_leaf': 20,  # Minimum number of data points in a leaf\n",
    "        'feature_fraction': 0.8,\n",
    "        'bagging_fraction': 0.8,\n",
    "        'bagging_freq': 5,\n",
    "        'verbose': -1\n",
    "    }"
   ]
  },
  {
   "cell_type": "code",
   "execution_count": null,
   "metadata": {},
   "outputs": [],
   "source": [
    "import lightgbm as lgb\n",
    "models = []\n",
    "predictions = []\n",
    "true_values = []\n",
    "for training_df in train_grouped:\n",
    "    training_df = training_df.to_pandas()\n",
    "    X_train = training_df[feature]\n",
    "    y_train = training_df[responder]\n",
    "    # Create LightGBM dataset\n",
    "    train_data = lgb.Dataset(X_train, label=y_train)\n",
    "    # Train the model\n",
    "    model = lgb.train(params, train_data, num_boost_round=1000, valid_sets=[train_data])\n",
    "    models.append((training_df[\"symbol_id\"][0], model))\n",
    "    print(training_df.shape)"
   ]
  },
  {
   "cell_type": "code",
   "execution_count": 7,
   "metadata": {},
   "outputs": [],
   "source": [
    "import pickle\n",
    "import pandas as pd\n",
    "# with open(\"models.pkl\", \"wb\") as f:\n",
    "#     pickle.dump(models, f)\n",
    "\n",
    "# Assuming train, train_grouped, and test are already defined as Polars DataFrames\n",
    "\n",
    "# Convert Polars DataFrames to Pandas DataFrames for pickling\n",
    "train_pd = train.to_pandas()\n",
    "test_pd = test.to_pandas()\n",
    "\n",
    "# Save the DataFrames to pickle files\n",
    "with open('train.pkl', 'wb') as f:\n",
    "    pickle.dump(train_pd, f)\n",
    "\n",
    "with open('train_grouped.pkl', 'wb') as f:\n",
    "    pickle.dump(train_grouped, f)\n",
    "\n",
    "with open('test.pkl', 'wb') as f:\n",
    "    pickle.dump(test_pd, f)\n",
    "\n",
    "\n",
    "# with open(\"models.pkl\", \"rb\") as f:\n",
    "#     models = pickle.load(f)"
   ]
  },
  {
   "cell_type": "code",
   "execution_count": null,
   "metadata": {},
   "outputs": [],
   "source": []
  },
  {
   "cell_type": "markdown",
   "metadata": {},
   "source": [
    "Use Guassian Mixture Model to cluster the data. The number of clusters is 30."
   ]
  },
  {
   "cell_type": "code",
   "execution_count": null,
   "metadata": {},
   "outputs": [],
   "source": [
    "import pickle\n",
    "with open('train.pkl', 'rb') as f:\n",
    "    train_pd = pickle.load(f)\n",
    "\n",
    "with open('train_grouped.pkl', 'rb') as f:  \n",
    "    train_grouped = pickle.load(f)"
   ]
  },
  {
   "cell_type": "code",
   "execution_count": null,
   "metadata": {},
   "outputs": [],
   "source": [
    "X_train = train_grouped[30].to_pandas()[feature]"
   ]
  },
  {
   "cell_type": "code",
   "execution_count": 8,
   "metadata": {},
   "outputs": [],
   "source": [
    "from sklearn.mixture import GaussianMixture\n",
    "\n",
    "# Define the number of clusters\n",
    "n_clusters = 2\n",
    "\n",
    "# Initialize and fit the Gaussian Mixture Model\n",
    "gmm = GaussianMixture(n_components=n_clusters, random_state=42).fit(X_train)\n"
   ]
  },
  {
   "cell_type": "code",
   "execution_count": 9,
   "metadata": {},
   "outputs": [],
   "source": [
    "n_clusters = 1\n",
    "gmm_list = []\n",
    "for training_df in train_grouped:\n",
    "    X_train = training_df.to_pandas()[feature]\n",
    "    # Predict the cluster for each data point\n",
    "    gmm = GaussianMixture(n_components=n_clusters, random_state=42).fit(X_train)\n",
    "    gmm_list.append((training_df[\"symbol_id\"][0], gmm))"
   ]
  },
  {
   "cell_type": "code",
   "execution_count": 10,
   "metadata": {},
   "outputs": [],
   "source": [
    "with open(\"gmm_list.pkl\", \"wb\") as f:\n",
    "    pickle.dump(gmm_list, f)"
   ]
  },
  {
   "cell_type": "code",
   "execution_count": null,
   "metadata": {},
   "outputs": [],
   "source": [
    "\n",
    "# Predict the cluster for each sample\n",
    "train['cluster'] = gmm.predict(X_train)\n",
    "\n",
    "# Display the first few rows with the cluster assignments\n",
    "print(train.head())"
   ]
  },
  {
   "cell_type": "code",
   "execution_count": 13,
   "metadata": {},
   "outputs": [],
   "source": [
    "with open(\"models.pkl\", \"rb\") as f:\n",
    "    models = pickle.load(f)"
   ]
  },
  {
   "cell_type": "code",
   "execution_count": null,
   "metadata": {},
   "outputs": [],
   "source": [
    "import pandas as pd\n",
    "predictions = pd.DataFrame(index=train_pd.index)\n",
    "for i, model in models:\n",
    "    predictions[f'prediction_{i}'] = model.predict(train_pd[feature])"
   ]
  },
  {
   "cell_type": "code",
   "execution_count": 15,
   "metadata": {},
   "outputs": [],
   "source": [
    "with open(\"predictions.pkl\", \"wb\") as f:\n",
    "    pickle.dump(predictions, f)\n",
    "\n"
   ]
  },
  {
   "cell_type": "code",
   "execution_count": 16,
   "metadata": {},
   "outputs": [],
   "source": [
    "gmm_models = gmm_list[0]"
   ]
  },
  {
   "cell_type": "code",
   "execution_count": null,
   "metadata": {},
   "outputs": [],
   "source": [
    "gmm_list[30]"
   ]
  },
  {
   "cell_type": "code",
   "execution_count": null,
   "metadata": {},
   "outputs": [],
   "source": [
    "X_train.iloc[0:1]"
   ]
  },
  {
   "cell_type": "code",
   "execution_count": 40,
   "metadata": {},
   "outputs": [],
   "source": [
    "gmm_test = X_train.iloc[0:1]"
   ]
  },
  {
   "cell_type": "code",
   "execution_count": null,
   "metadata": {},
   "outputs": [],
   "source": [
    "gmm_models[1].means_.shape"
   ]
  },
  {
   "cell_type": "code",
   "execution_count": null,
   "metadata": {},
   "outputs": [],
   "source": [
    "import numpy as np\n",
    "\n",
    "gmm_list[3][1].predict_proba(gmm_test)"
   ]
  },
  {
   "cell_type": "code",
   "execution_count": 49,
   "metadata": {},
   "outputs": [],
   "source": [
    "predictions[\"answer\"] = train_pd[responder]\n",
    "predictions[\"symbol_id\"] = train_pd[\"symbol_id\"]"
   ]
  },
  {
   "cell_type": "code",
   "execution_count": 60,
   "metadata": {},
   "outputs": [],
   "source": [
    "predictions_grouped = predictions.groupby(\"symbol_id\")"
   ]
  },
  {
   "cell_type": "code",
   "execution_count": null,
   "metadata": {},
   "outputs": [],
   "source": [
    "from sklearn.linear_model import LinearRegression\n",
    "from sklearn import linear_model\n",
    "lasso_list = []\n",
    "lm_list = []\n",
    "for dat in predictions_grouped:\n",
    "    symbol_id = dat[0]\n",
    "    dat = dat[1]\n",
    "    X = dat.drop(columns=[\"answer\", \"symbol_id\"])\n",
    "    y = dat[\"answer\"]\n",
    "    clf = linear_model.Lasso(alpha=0.1).fit(X, y)\n",
    "    reg = LinearRegression().fit(X, y)\n",
    "    lasso_list.append((symbol_id, clf))\n",
    "    lm_list.append((symbol_id, reg))"
   ]
  },
  {
   "cell_type": "code",
   "execution_count": null,
   "metadata": {},
   "outputs": [],
   "source": [
    "prob_df = pd.DataFrame(index=test_pd.index)\n",
    "for i, model in gmm_models:\n",
    "    prob_df[f'prob_{i}'] = model.predict(test_pd[feature])\n",
    "\n",
    "final_group = prob_df.idxmax(axis=1)\n"
   ]
  }
 ],
 "metadata": {
  "kernelspec": {
   "display_name": "mlvenv",
   "language": "python",
   "name": "python3"
  },
  "language_info": {
   "codemirror_mode": {
    "name": "ipython",
    "version": 3
   },
   "file_extension": ".py",
   "mimetype": "text/x-python",
   "name": "python",
   "nbconvert_exporter": "python",
   "pygments_lexer": "ipython3",
   "version": "3.9.18"
  }
 },
 "nbformat": 4,
 "nbformat_minor": 2
}
