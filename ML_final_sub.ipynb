{
 "cells": [
  {
   "cell_type": "code",
   "execution_count": null,
   "metadata": {},
   "outputs": [],
   "source": [
    "import polars as pl\n",
    "import os\n",
    "import warnings\n",
    "warnings.filterwarnings('ignore')"
   ]
  },
  {
   "cell_type": "code",
   "execution_count": null,
   "metadata": {},
   "outputs": [],
   "source": [
    "DATA_PATH = \"jane-street-real-time-market-data-forecasting\"\n",
    "data = pl.read_parquet(DATA_PATH + \"/train.parquet\")"
   ]
  },
  {
   "cell_type": "markdown",
   "metadata": {},
   "source": [
    "Train Test Split Method\n",
    "In training data, we preserve symbol_id from 0~30. And the date is from 0 to 1698.\n",
    "In testing data, we use simply the last date 1699 for all symbol_id 0~39."
   ]
  },
  {
   "cell_type": "code",
   "execution_count": null,
   "metadata": {},
   "outputs": [],
   "source": [
    "train = data.filter((pl.col(\"symbol_id\") < 31) & (pl.col(\"date_id\") < 1698))"
   ]
  },
  {
   "cell_type": "code",
   "execution_count": null,
   "metadata": {},
   "outputs": [],
   "source": [
    "test = data.filter(pl.col(\"date_id\") == 1698)"
   ]
  },
  {
   "cell_type": "code",
   "execution_count": null,
   "metadata": {},
   "outputs": [],
   "source": [
    "train = train.drop_nulls() "
   ]
  },
  {
   "cell_type": "code",
   "execution_count": null,
   "metadata": {},
   "outputs": [],
   "source": [
    "train_grouped = train.partition_by(\"symbol_id\")"
   ]
  },
  {
   "cell_type": "code",
   "execution_count": null,
   "metadata": {},
   "outputs": [],
   "source": [
    "feature = [col for col in train_pd.columns if col.startswith('feature')]\n",
    "responder = 'responder_6'"
   ]
  },
  {
   "cell_type": "code",
   "execution_count": null,
   "metadata": {},
   "outputs": [],
   "source": [
    "# Set parameters for LightGBM\n",
    "params = {\n",
    "        'objective': 'regression',\n",
    "        'metric': 'rmse',\n",
    "        'boosting_type': 'gbdt',\n",
    "        'learning_rate': 0.01,  # Lower learning rate\n",
    "        'num_leaves': 31,\n",
    "        'min_data_in_leaf': 20,  # Minimum number of data points in a leaf\n",
    "        'feature_fraction': 0.8,\n",
    "        'bagging_fraction': 0.8,\n",
    "        'bagging_freq': 5,\n",
    "        'verbose': -1\n",
    "    }"
   ]
  },
  {
   "cell_type": "code",
   "execution_count": null,
   "metadata": {},
   "outputs": [],
   "source": [
    "import lightgbm as lgb\n",
    "models = []\n",
    "predictions = []\n",
    "true_values = []\n",
    "for training_df in train_grouped:\n",
    "    training_df = training_df.to_pandas()\n",
    "    X_train = training_df[feature]\n",
    "    y_train = training_df[responder]\n",
    "    # Create LightGBM dataset\n",
    "    train_data = lgb.Dataset(X_train, label=y_train)\n",
    "    # Train the model\n",
    "    model = lgb.train(params, train_data, num_boost_round=1000, valid_sets=[train_data])\n",
    "    models.append((training_df[\"symbol_id\"][0], model))\n",
    "    print(training_df.shape)"
   ]
  },
  {
   "cell_type": "code",
   "execution_count": null,
   "metadata": {},
   "outputs": [],
   "source": [
    "from sklearn.mixture import GaussianMixture\n",
    "\n",
    "# Define the number of clusters\n",
    "n_clusters = 2\n",
    "\n",
    "# Initialize and fit the Gaussian Mixture Model\n",
    "gmm = GaussianMixture(n_components=n_clusters, random_state=42).fit(X_train)\n"
   ]
  },
  {
   "cell_type": "code",
   "execution_count": null,
   "metadata": {},
   "outputs": [],
   "source": [
    "n_clusters = 1\n",
    "gmm_list = []\n",
    "for training_df in train_grouped:\n",
    "    X_train = training_df.to_pandas()[feature]\n",
    "    # Predict the cluster for each data point\n",
    "    gmm = GaussianMixture(n_components=n_clusters, random_state=42).fit(X_train)\n",
    "    gmm_list.append((training_df[\"symbol_id\"][0], gmm))"
   ]
  },
  {
   "cell_type": "code",
   "execution_count": null,
   "metadata": {},
   "outputs": [],
   "source": [
    "import pandas as pd\n",
    "predictions = pd.DataFrame(index=train_pd.index)\n",
    "for i, model in models:\n",
    "    predictions[f'prediction_{i}'] = model.predict(train_pd[feature])"
   ]
  },
  {
   "cell_type": "code",
   "execution_count": null,
   "metadata": {},
   "outputs": [],
   "source": [
    "predictions[\"answer\"] = train_pd[responder]\n",
    "predictions[\"symbol_id\"] = train_pd[\"symbol_id\"]"
   ]
  },
  {
   "cell_type": "code",
   "execution_count": null,
   "metadata": {},
   "outputs": [],
   "source": [
    "predictions_grouped = predictions.groupby(\"symbol_id\")"
   ]
  },
  {
   "cell_type": "code",
   "execution_count": null,
   "metadata": {},
   "outputs": [],
   "source": [
    "from sklearn.linear_model import LinearRegression\n",
    "from sklearn import linear_model\n",
    "lasso_list = []\n",
    "lm_list = []\n",
    "for dat in predictions_grouped:\n",
    "    symbol_id = dat[0]\n",
    "    dat = dat[1]\n",
    "    X = dat.drop(columns=[\"answer\", \"symbol_id\"])\n",
    "    y = dat[\"answer\"]\n",
    "    clf = linear_model.Lasso(alpha=0.1).fit(X, y)\n",
    "    reg = LinearRegression().fit(X, y)\n",
    "    lasso_list.append((symbol_id, clf))\n",
    "    lm_list.append((symbol_id, reg))"
   ]
  },
  {
   "cell_type": "code",
   "execution_count": null,
   "metadata": {},
   "outputs": [],
   "source": [
    "prob_df = pd.DataFrame(index=test_pd.index)\n",
    "for i, model in gmm_models:\n",
    "    prob_df[f'prob_{i}'] = model.predict(test_pd[feature])\n",
    "\n",
    "final_group = prob_df.idxmax(axis=1)\n"
   ]
  }
 ],
 "metadata": {
  "language_info": {
   "name": "python"
  }
 },
 "nbformat": 4,
 "nbformat_minor": 2
}
